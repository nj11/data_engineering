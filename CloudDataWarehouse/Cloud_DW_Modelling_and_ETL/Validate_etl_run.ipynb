{
 "cells": [
  {
   "cell_type": "code",
   "execution_count": 49,
   "metadata": {},
   "outputs": [
    {
     "data": {
      "text/plain": [
       "['dwh.cfg']"
      ]
     },
     "execution_count": 49,
     "metadata": {},
     "output_type": "execute_result"
    }
   ],
   "source": [
    "import configparser\n",
    "import psycopg2\n",
    "\n",
    "config = configparser.ConfigParser()\n",
    "config.read('dwh.cfg')"
   ]
  },
  {
   "cell_type": "code",
   "execution_count": 50,
   "metadata": {},
   "outputs": [
    {
     "name": "stdout",
     "output_type": "stream",
     "text": [
      "<connection object at 0x7f4f0cd43508; dsn: 'user=dwhuser password=xxx dbname=dwh host=dwhcluster.cujsz8dz5egu.us-west-2.redshift.amazonaws.com port=5439', closed: 0>\n"
     ]
    }
   ],
   "source": [
    "conn = psycopg2.connect(\"host={} dbname={} user={} password={} port={}\".format(*config['CLUSTER'].values()))\n",
    "print(conn)\n",
    "cur = conn.cursor()"
   ]
  },
  {
   "cell_type": "code",
   "execution_count": 51,
   "metadata": {},
   "outputs": [
    {
     "name": "stdout",
     "output_type": "stream",
     "text": [
      "Total number of rows in users table is:  104\n"
     ]
    }
   ],
   "source": [
    "cur.execute(\"select * from users\")\n",
    "cur.fetchall()\n",
    "print(\"Total number of rows in users table is: \", cur.rowcount)"
   ]
  },
  {
   "cell_type": "code",
   "execution_count": 52,
   "metadata": {},
   "outputs": [
    {
     "name": "stdout",
     "output_type": "stream",
     "text": [
      "Total number of rows in artists table is:  10025\n"
     ]
    }
   ],
   "source": [
    "cur.execute(\"select * from artists\")\n",
    "cur.fetchall()\n",
    "print(\"Total number of rows in artists table is: \", cur.rowcount)"
   ]
  },
  {
   "cell_type": "code",
   "execution_count": 53,
   "metadata": {},
   "outputs": [
    {
     "name": "stdout",
     "output_type": "stream",
     "text": [
      "Total number of rows in songs table is:  14896\n"
     ]
    }
   ],
   "source": [
    "cur.execute(\"select * from songs\")\n",
    "cur.fetchall()\n",
    "print(\"Total number of rows in songs table is: \", cur.rowcount)"
   ]
  },
  {
   "cell_type": "code",
   "execution_count": 54,
   "metadata": {},
   "outputs": [
    {
     "name": "stdout",
     "output_type": "stream",
     "text": [
      "Total number of rows in time table is:  333\n"
     ]
    }
   ],
   "source": [
    "cur.execute(\"select * from time\")\n",
    "cur.fetchall()\n",
    "print(\"Total number of rows in time table is: \", cur.rowcount)"
   ]
  },
  {
   "cell_type": "code",
   "execution_count": 55,
   "metadata": {},
   "outputs": [
    {
     "name": "stdout",
     "output_type": "stream",
     "text": [
      "Total number of rows in songplays table is:  333\n"
     ]
    }
   ],
   "source": [
    "cur.execute(\"select * from songplays\")\n",
    "cur.fetchall()\n",
    "print(\"Total number of rows in songplays table is: \", cur.rowcount)"
   ]
  }
 ],
 "metadata": {
  "kernelspec": {
   "display_name": "Python 3",
   "language": "python",
   "name": "python3"
  },
  "language_info": {
   "codemirror_mode": {
    "name": "ipython",
    "version": 3
   },
   "file_extension": ".py",
   "mimetype": "text/x-python",
   "name": "python",
   "nbconvert_exporter": "python",
   "pygments_lexer": "ipython3",
   "version": "3.6.3"
  }
 },
 "nbformat": 4,
 "nbformat_minor": 4
}
